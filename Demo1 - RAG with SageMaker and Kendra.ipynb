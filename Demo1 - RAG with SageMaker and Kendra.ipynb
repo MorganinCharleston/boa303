{
 "cells": [
  {
   "cell_type": "code",
   "execution_count": 60,
   "id": "c248797a-8e1e-4b59-af3f-689bf98445b7",
   "metadata": {
    "tags": []
   },
   "outputs": [],
   "source": [
    "import warnings\n",
    "# Set the warning filter to ignore all warnings\n",
    "warnings.filterwarnings(\"ignore\")"
   ]
  },
  {
   "cell_type": "markdown",
   "id": "e8ccb2f5-6b69-494f-8888-8b0ffd33256f",
   "metadata": {},
   "source": [
    "# Part 1 - Data Preparation\n",
    "\n",
    "Let's import csv file, clean it and visualize data"
   ]
  },
  {
   "cell_type": "code",
   "execution_count": 2,
   "id": "59734e8c-ffe0-4d72-9928-1339ead5f47c",
   "metadata": {
    "tags": []
   },
   "outputs": [],
   "source": [
    "import pandas as pd\n",
    "import boto3, sagemaker, json"
   ]
  },
  {
   "cell_type": "code",
   "execution_count": 28,
   "id": "85254bb2-1107-4523-b9fe-f7252b0d4eca",
   "metadata": {
    "tags": []
   },
   "outputs": [
    {
     "name": "stdout",
     "output_type": "stream",
     "text": [
      "download: s3://reinvent-demo-vsemaan/united-states-inflation-rate-cpi.csv to ./united-states-inflation-rate-cpi.csv\n"
     ]
    }
   ],
   "source": [
    "s3_path = f\"s3://reinvent-demo-vsemaan/united-states-inflation-rate-cpi.csv\"\n",
    "!aws s3 cp $s3_path united-states-inflation-rate-cpi.csv"
   ]
  },
  {
   "cell_type": "code",
   "execution_count": 29,
   "id": "b8c475fd-4832-4ae1-a932-41d78dfa554e",
   "metadata": {
    "tags": []
   },
   "outputs": [],
   "source": [
    "# remove first 13 records from csv file\n",
    "!sed -i '1,14d' united-states-inflation-rate-cpi.csv"
   ]
  },
  {
   "cell_type": "code",
   "execution_count": 32,
   "id": "d7b9d278-e248-4b51-bffd-7456b7f4f9a9",
   "metadata": {
    "tags": []
   },
   "outputs": [
    {
     "data": {
      "text/html": [
       "<div>\n",
       "<style scoped>\n",
       "    .dataframe tbody tr th:only-of-type {\n",
       "        vertical-align: middle;\n",
       "    }\n",
       "\n",
       "    .dataframe tbody tr th {\n",
       "        vertical-align: top;\n",
       "    }\n",
       "\n",
       "    .dataframe thead th {\n",
       "        text-align: right;\n",
       "    }\n",
       "</style>\n",
       "<table border=\"1\" class=\"dataframe\">\n",
       "  <thead>\n",
       "    <tr style=\"text-align: right;\">\n",
       "      <th></th>\n",
       "      <th>Unnamed: 0</th>\n",
       "      <th></th>\n",
       "      <th>.1</th>\n",
       "      <th>.2</th>\n",
       "    </tr>\n",
       "  </thead>\n",
       "  <tbody>\n",
       "    <tr>\n",
       "      <th>0</th>\n",
       "      <td>date</td>\n",
       "      <td>Inflation Rate (%)</td>\n",
       "      <td>Annual Change</td>\n",
       "      <td></td>\n",
       "    </tr>\n",
       "    <tr>\n",
       "      <th>1</th>\n",
       "      <td>1960-12-31</td>\n",
       "      <td>1.458</td>\n",
       "      <td>NaN</td>\n",
       "      <td>NaN</td>\n",
       "    </tr>\n",
       "    <tr>\n",
       "      <th>2</th>\n",
       "      <td>1961-12-31</td>\n",
       "      <td>1.0707</td>\n",
       "      <td>-0.39</td>\n",
       "      <td>NaN</td>\n",
       "    </tr>\n",
       "    <tr>\n",
       "      <th>3</th>\n",
       "      <td>1962-12-31</td>\n",
       "      <td>1.1988</td>\n",
       "      <td>0.13</td>\n",
       "      <td>NaN</td>\n",
       "    </tr>\n",
       "    <tr>\n",
       "      <th>4</th>\n",
       "      <td>1963-12-31</td>\n",
       "      <td>1.2397</td>\n",
       "      <td>0.04</td>\n",
       "      <td>NaN</td>\n",
       "    </tr>\n",
       "  </tbody>\n",
       "</table>\n",
       "</div>"
      ],
      "text/plain": [
       "   Unnamed: 0                                   .1   .2\n",
       "0        date   Inflation Rate (%)   Annual Change     \n",
       "1  1960-12-31                1.458             NaN  NaN\n",
       "2  1961-12-31               1.0707           -0.39  NaN\n",
       "3  1962-12-31               1.1988            0.13  NaN\n",
       "4  1963-12-31               1.2397            0.04  NaN"
      ]
     },
     "execution_count": 32,
     "metadata": {},
     "output_type": "execute_result"
    }
   ],
   "source": [
    "# load the csv file into a dataframe\n",
    "df = pd.read_csv(\"united-states-inflation-rate-cpi.csv\")\n",
    "\n",
    "# show fitst 5 records\n",
    "df.head()"
   ]
  },
  {
   "cell_type": "code",
   "execution_count": 34,
   "id": "e5265b1a-4036-4fcd-9075-534303ca58fe",
   "metadata": {
    "tags": []
   },
   "outputs": [
    {
     "data": {
      "text/html": [
       "<div>\n",
       "<style scoped>\n",
       "    .dataframe tbody tr th:only-of-type {\n",
       "        vertical-align: middle;\n",
       "    }\n",
       "\n",
       "    .dataframe tbody tr th {\n",
       "        vertical-align: top;\n",
       "    }\n",
       "\n",
       "    .dataframe thead th {\n",
       "        text-align: right;\n",
       "    }\n",
       "</style>\n",
       "<table border=\"1\" class=\"dataframe\">\n",
       "  <thead>\n",
       "    <tr style=\"text-align: right;\">\n",
       "      <th></th>\n",
       "      <th>Unnamed: 0</th>\n",
       "      <th></th>\n",
       "      <th>.1</th>\n",
       "    </tr>\n",
       "  </thead>\n",
       "  <tbody>\n",
       "    <tr>\n",
       "      <th>0</th>\n",
       "      <td>date</td>\n",
       "      <td>Inflation Rate (%)</td>\n",
       "      <td>Annual Change</td>\n",
       "    </tr>\n",
       "    <tr>\n",
       "      <th>1</th>\n",
       "      <td>1960-12-31</td>\n",
       "      <td>1.458</td>\n",
       "      <td>NaN</td>\n",
       "    </tr>\n",
       "    <tr>\n",
       "      <th>2</th>\n",
       "      <td>1961-12-31</td>\n",
       "      <td>1.0707</td>\n",
       "      <td>-0.39</td>\n",
       "    </tr>\n",
       "    <tr>\n",
       "      <th>3</th>\n",
       "      <td>1962-12-31</td>\n",
       "      <td>1.1988</td>\n",
       "      <td>0.13</td>\n",
       "    </tr>\n",
       "    <tr>\n",
       "      <th>4</th>\n",
       "      <td>1963-12-31</td>\n",
       "      <td>1.2397</td>\n",
       "      <td>0.04</td>\n",
       "    </tr>\n",
       "  </tbody>\n",
       "</table>\n",
       "</div>"
      ],
      "text/plain": [
       "   Unnamed: 0                                   .1\n",
       "0        date   Inflation Rate (%)   Annual Change\n",
       "1  1960-12-31                1.458             NaN\n",
       "2  1961-12-31               1.0707           -0.39\n",
       "3  1962-12-31               1.1988            0.13\n",
       "4  1963-12-31               1.2397            0.04"
      ]
     },
     "execution_count": 34,
     "metadata": {},
     "output_type": "execute_result"
    }
   ],
   "source": [
    "# remove the last column\n",
    "df = df.iloc[:, :-1]\n",
    "# show first 5 records\n",
    "df.head()"
   ]
  },
  {
   "cell_type": "code",
   "execution_count": 39,
   "id": "50b21ca7-f0a8-48bd-a695-453c1a022ba6",
   "metadata": {
    "tags": []
   },
   "outputs": [
    {
     "name": "stdout",
     "output_type": "stream",
     "text": [
      "    Unnamed: 0                                   .1\n",
      "0         date   Inflation Rate (%)   Annual Change\n",
      "1   1960-12-31                1.458               0\n",
      "2   1961-12-31               1.0707           -0.39\n",
      "3   1962-12-31               1.1988            0.13\n",
      "4   1963-12-31               1.2397            0.04\n",
      "..         ...                  ...             ...\n",
      "59  2018-12-31               2.4426            0.31\n",
      "60  2019-12-31               1.8122           -0.63\n",
      "61  2020-12-31               1.2336           -0.58\n",
      "62  2021-12-31               4.6979            3.46\n",
      "63  2022-12-31               8.0028             3.3\n",
      "\n",
      "[64 rows x 3 columns]\n"
     ]
    }
   ],
   "source": [
    "# replace NaN with 0\n",
    "df = df.fillna(0)\n",
    "print(df)\n"
   ]
  },
  {
   "cell_type": "code",
   "execution_count": 56,
   "id": "c86c24bd-d364-488e-ae08-ffbb2525288e",
   "metadata": {
    "tags": []
   },
   "outputs": [],
   "source": [
    "# use record 0 as column names\n",
    "df.columns = df.iloc[0]\n",
    "\n",
    "#remove fitst record\n",
    "df = df.iloc[1:]"
   ]
  },
  {
   "cell_type": "code",
   "execution_count": 57,
   "id": "4ebe4760-1370-4f24-8154-e4f4704fd01d",
   "metadata": {
    "tags": []
   },
   "outputs": [
    {
     "name": "stdout",
     "output_type": "stream",
     "text": [
      "0         date  Inflation Rate (%)  Annual Change\n",
      "1   1960-12-31               1.458              0\n",
      "2   1961-12-31              1.0707          -0.39\n",
      "3   1962-12-31              1.1988           0.13\n",
      "4   1963-12-31              1.2397           0.04\n",
      "5   1964-12-31              1.2789           0.04\n",
      "..         ...                 ...            ...\n",
      "59  2018-12-31              2.4426           0.31\n",
      "60  2019-12-31              1.8122          -0.63\n",
      "61  2020-12-31              1.2336          -0.58\n",
      "62  2021-12-31              4.6979           3.46\n",
      "63  2022-12-31              8.0028            3.3\n",
      "\n",
      "[63 rows x 3 columns]\n"
     ]
    }
   ],
   "source": [
    "print(df)"
   ]
  },
  {
   "cell_type": "code",
   "execution_count": null,
   "id": "8b65d4d0-6303-4ae6-839c-b9ca2ffc6889",
   "metadata": {},
   "outputs": [],
   "source": [
    "# desribe dataframe adn datatypes\n",
    "\n"
   ]
  },
  {
   "cell_type": "code",
   "execution_count": 59,
   "id": "79b360a0-5e62-4e98-b181-877308b768b8",
   "metadata": {
    "tags": []
   },
   "outputs": [
    {
     "name": "stderr",
     "output_type": "stream",
     "text": [
      "/tmp/ipykernel_3856/724973645.py:2: SettingWithCopyWarning: \n",
      "A value is trying to be set on a copy of a slice from a DataFrame.\n",
      "Try using .loc[row_indexer,col_indexer] = value instead\n",
      "\n",
      "See the caveats in the documentation: https://pandas.pydata.org/pandas-docs/stable/user_guide/indexing.html#returning-a-view-versus-a-copy\n",
      "  df[' Inflation Rate (%)'] = pd.to_numeric(df[' Inflation Rate (%)'])\n"
     ]
    },
    {
     "data": {
      "text/plain": [
       "<Axes: xlabel='date'>"
      ]
     },
     "execution_count": 59,
     "metadata": {},
     "output_type": "execute_result"
    },
    {
     "data": {
      "image/png": "[encoded data removed]",
      "text/plain": [
       "<Figure size 640x480 with 1 Axes>"
      ]
     },
     "metadata": {},
     "output_type": "display_data"
    }
   ],
   "source": [
    "#set second column as numeric\n",
    "df[' Inflation Rate (%)'] = pd.to_numeric(df[' Inflation Rate (%)'])\n",
    "# build chart that shows second column on y and date on x\n",
    "df.plot(x='date', y=' Inflation Rate (%)')"
   ]
  },
  {
   "cell_type": "code",
   "execution_count": 67,
   "id": "1a14829c-633f-413d-ade8-23db1ba01ab9",
   "metadata": {
    "tags": []
   },
   "outputs": [
    {
     "data": {
      "text/plain": [
       "<Axes: xlabel='date'>"
      ]
     },
     "execution_count": 67,
     "metadata": {},
     "output_type": "execute_result"
    },
    {
     "data": {
      "image/png": "[encoded data removed]",
      "text/plain": [
       "<Figure size 640x480 with 1 Axes>"
      ]
     },
     "metadata": {},
     "output_type": "display_data"
    }
   ],
   "source": [
    "#set last column as numeric\n",
    "df[' Annual Change'] = pd.to_numeric(df[' Annual Change'])\n",
    "\n",
    "# build chart that shows Inflation Rate and Annual Change over time\n",
    "df.plot(x='date', y=[' Annual Change', ' Inflation Rate (%)'])\n",
    "\n"
   ]
  },
  {
   "cell_type": "code",
   "execution_count": 68,
   "id": "41c3dbf2-5597-46dd-ac74-f5ab3a54c512",
   "metadata": {
    "tags": []
   },
   "outputs": [],
   "source": [
    "# save the dataframe to a csv file\n",
    "df.to_csv(\"inflation_rate-updated.csv\", index=False)\n"
   ]
  },
  {
   "cell_type": "code",
   "execution_count": 69,
   "id": "9731c763-ea88-4680-ae2a-6cbc0b0f06cf",
   "metadata": {
    "tags": []
   },
   "outputs": [
    {
     "name": "stdout",
     "output_type": "stream",
     "text": [
      "upload: ./inflation_rate-updated.csv to s3://reinvent-demo-vsemaan/inflation_rate-updated.csv\n"
     ]
    }
   ],
   "source": [
    "# copy to s3 bucket\n",
    "s3_path = \"s3://reinvent-demo-vsemaan/inflation_rate-updated.csv\"\n",
    "!aws s3 cp inflation_rate-updated.csv $s3_path"
   ]
  },
  {
   "cell_type": "markdown",
   "id": "d3fd23c3-0b55-4ade-b1a5-5310534e5c4f",
   "metadata": {},
   "source": [
    "# Part 2 - Deploy the model and invoke the endpoint\n",
    "\n",
    "Let's deploy LLAMA2 model using SageMaker JumpStart"
   ]
  },
  {
   "cell_type": "code",
   "execution_count": null,
   "id": "b8a18ca0-3085-4680-8cd7-23272dcb4ae1",
   "metadata": {},
   "outputs": [],
   "source": [
    "# select a model \n",
    "model_id, model_version = \"meta-textgeneration-llama-2-7b-f\", \"*\""
   ]
  },
  {
   "cell_type": "code",
   "execution_count": null,
   "id": "7fb9519f-498c-4f9c-bab7-12b87c8cd86b",
   "metadata": {},
   "outputs": [],
   "source": [
    "from sagemaker.jumpstart.model import JumpStartModel\n",
    "\n",
    "model = JumpStartModel(model_id=model_id)\n",
    "predictor = model.deploy()"
   ]
  },
  {
   "cell_type": "code",
   "execution_count": 70,
   "id": "f545beed-bf83-4642-a722-40a3ed953d70",
   "metadata": {
    "tags": []
   },
   "outputs": [],
   "source": [
    "#import dependencies\n",
    "import time\n",
    "import sagemaker, boto3, json\n",
    "from sagemaker.session import Session\n",
    "from sagemaker.model import Model\n",
    "from sagemaker import image_uris, model_uris, script_uris, hyperparameters\n",
    "from sagemaker.predictor import Predictor\n",
    "from sagemaker.utils import name_from_base\n",
    "from typing import Any, Dict, List, Optional\n",
    "from langchain.embeddings import SagemakerEndpointEmbeddings\n",
    "from langchain.llms.sagemaker_endpoint import ContentHandlerBase"
   ]
  },
  {
   "cell_type": "code",
   "execution_count": 71,
   "id": "9c026c3f-1f51-4afe-b712-f9d2c557ea0f",
   "metadata": {
    "tags": []
   },
   "outputs": [],
   "source": [
    "from sagemaker.jumpstart.model import JumpStartModel\n",
    "from langchain import SagemakerEndpoint\n",
    "\n",
    "llm_endpoint_name = \"meta-textgeneration-llama-2-7b-f-2023-10-12-21-36-42-788\""
   ]
  },
  {
   "cell_type": "code",
   "execution_count": 75,
   "id": "ade2ba55-ae91-4383-b1ad-f8d0b368bbb6",
   "metadata": {
    "tags": []
   },
   "outputs": [],
   "source": [
    "# define query format\n",
    "def query_endpoint(payload):\n",
    "    client = boto3.client(\"sagemaker-runtime\")\n",
    "    response = client.invoke_endpoint(\n",
    "        EndpointName=llm_endpoint_name,\n",
    "        ContentType=\"application/json\",\n",
    "        Body=json.dumps(payload),\n",
    "        CustomAttributes=\"accept_eula=true\",\n",
    "    )\n",
    "    response = response[\"Body\"].read().decode(\"utf8\")\n",
    "    response = json.loads(response)\n",
    "    return response"
   ]
  },
  {
   "cell_type": "code",
   "execution_count": 74,
   "id": "feaa9880-1cd0-42fd-8173-08951f6cf5f0",
   "metadata": {
    "tags": []
   },
   "outputs": [],
   "source": [
    "# make response human readable\n",
    "def print_dialog(payload, response):\n",
    "    dialog = payload[\"inputs\"][0]\n",
    "    for msg in dialog:\n",
    "        print(f\"{msg['role'].capitalize()}: {msg['content']}\\n\")\n",
    "    print(f\"> {response[0]['generation']['role'].capitalize()}: {response[0]['generation']['content']}\")\n",
    "    print(\"\\n==================================\\n\")"
   ]
  },
  {
   "cell_type": "code",
   "execution_count": 79,
   "id": "53c5d85d-9574-415f-a6ce-eedfd96d4e1b",
   "metadata": {
    "tags": []
   },
   "outputs": [],
   "source": [
    "payload = {\n",
    "    \"inputs\": [[#import dependencies\n",
    "import time\n",
    "import sagemaker, boto3, json\n",
    "from sagemaker.session import Session\n",
    "from sagemaker.model import Model\n",
    "from sagemaker import image_uris, model_uris, script_uris, hyperparameters\n",
    "from sagemaker.predictor import Predictor\n",
    "from sagemaker.utils import name_from_base\n",
    "from typing import Any, Dict, List, Optional\n",
    "from langchain.embeddings import SagemakerEndpointEmbeddings\n",
    "from langchain.llms.sagemaker_endpoint import ContentHandlerBase\n",
    "        {\"role\": \"system\", \"content\": \"You are a helpful, respectful and honest assistant.\"},\n",
    "        {\"role\": \"user\", \"content\": \"\"},\n",
    "        \n",
    "    ]],\n",
    "    \"parameters\": {\"max_new_tokens\": 512, \"top_p\": 0.9, \"temperature\": 0.6}\n",
    "}"
   ]
  },
  {
   "cell_type": "code",
   "execution_count": null,
   "id": "aa5d82fe-2640-40cb-81fd-7d5e629f2da1",
   "metadata": {},
   "outputs": [],
   "source": []
  },
  {
   "cell_type": "code",
   "execution_count": 80,
   "id": "8e442c4d-14f9-4cdb-893b-c98443e55045",
   "metadata": {
    "tags": []
   },
   "outputs": [
    {
     "name": "stdout",
     "output_type": "stream",
     "text": [
      "System: You are a helpful, respectful and honest assistant.\n",
      "\n",
      "User: What was Inflation Rate in the US for year 2022?\n",
      "\n",
      "> Assistant:  Thank you for asking! According to the Bureau of Labor Statistics (BLS), the inflation rate in the United States for the year 2022 was 7.0% (as of December 2022). This means that the prices of goods and services in the US increased by 7.0% compared to the previous year. It's important to keep track of inflation rates to understand how it can affect your personal finances and investments. If you have any further questions, feel free to ask!\n",
      "\n",
      "==================================\n",
      "\n"
     ]
    }
   ],
   "source": [
    "response = query_endpoint(payload)\n",
    "print_dialog(payload,response)"
   ]
  },
  {
   "cell_type": "markdown",
   "id": "6c2a5e6d-b39f-41cc-9224-765bda11f818",
   "metadata": {},
   "source": [
    "# Part 3 - RAG workflow by combining the capabilities of Amazon Kendra with LLMs \n",
    "\n"
   ]
  },
  {
   "cell_type": "code",
   "execution_count": 81,
   "id": "f3a7f7c5-f4e2-45ef-b7a7-cd6b8f5f6b9c",
   "metadata": {
    "tags": []
   },
   "outputs": [],
   "source": [
    "# use Kendra Retriever to get top 3 pieces\n",
    "from langchain.retrievers import AmazonKendraRetriever\n",
    "retriever = AmazonKendraRetriever(index_id=\"5bdc1703-32c6-4a55-854b-1907c62cb459\",top_k=3)\n",
    "aws_region = \"us-west-2\""
   ]
  },
  {
   "cell_type": "code",
   "execution_count": 83,
   "id": "54829418-9f6f-484d-ac78-d519624fb3fa",
   "metadata": {
    "tags": []
   },
   "outputs": [],
   "source": [
    "# Defining prompt\n",
    "from langchain.prompts import PromptTemplate\n",
    "prompt_template = \"\"\"Use the following pieces of context to answer the question at the end. \n",
    "\n",
    "Context:  {context}\n",
    "\n",
    "Question: {question}\n",
    "Answer:\"\"\"\n",
    "\n",
    "PROMPT = PromptTemplate(template=prompt_template, input_variables=[\"context\", \"question\"])"
   ]
  },
  {
   "cell_type": "code",
   "execution_count": 84,
   "id": "b6a8e72c-656d-4458-a08b-01c3bf010c8f",
   "metadata": {
    "tags": []
   },
   "outputs": [],
   "source": [
    "from langchain import PromptTemplate, SagemakerEndpoint\n",
    "from langchain.llms.sagemaker_endpoint import LLMContentHandler\n",
    "import json\n",
    "\n",
    "class ContentHandler(LLMContentHandler):\n",
    "    content_type = \"application/json\"\n",
    "    accepts = \"application/json\"\n",
    "\n",
    "    def transform_input(self, prompt: str, model_kwargs: dict) -> bytes:\n",
    "        input_str = json.dumps({\"inputs\" : [[{\"role\" : \"system\",\n",
    "        \"content\" : \"You are an accurate information searching AI assitance.\"},\n",
    "        {\"role\" : \"user\", \"content\" : prompt}]],\n",
    "        \"parameters\" : {**model_kwargs}})\n",
    "        return input_str.encode('utf-8')\n",
    "    \n",
    "    def transform_output(self, output: bytes) -> str:\n",
    "        response_json = json.loads(output.read().decode(\"utf-8\"))\n",
    "        return response_json[0][\"generation\"][\"content\"]\n",
    "    \n",
    "\n",
    "parameters = {\n",
    "    \"max_new_tokens\": 500,\n",
    "    \"top_p\":0.5, \n",
    "    \"temperature\":0.01\n",
    "}\n",
    "\n",
    "content_handler = ContentHandler()\n",
    "\n",
    "sm_llm = SagemakerEndpoint(\n",
    "    endpoint_name = llm_endpoint_name, \n",
    "    region_name = aws_region, \n",
    "    model_kwargs = parameters,\n",
    "    endpoint_kwargs={\"CustomAttributes\": 'accept_eula=true'},\n",
    "    content_handler = content_handler,\n",
    ")"
   ]
  },
  {
   "cell_type": "code",
   "execution_count": 85,
   "id": "3bfebde9-4a59-4f1a-8e57-dcc77f4daeac",
   "metadata": {
    "tags": []
   },
   "outputs": [],
   "source": [
    "from langchain.chains import RetrievalQA\n",
    "import langchain\n",
    "\n",
    "langchain.verbose = True\n",
    "chain_type_kwargs = {\"prompt\": PROMPT}\n",
    "qa = RetrievalQA.from_chain_type(llm=sm_llm, chain_type=\"stuff\", retriever=retriever, chain_type_kwargs=chain_type_kwargs, return_source_documents=True)"
   ]
  },
  {
   "cell_type": "code",
   "execution_count": 86,
   "id": "68e0a4b0-8cfc-4282-ba14-95a0f85d08fc",
   "metadata": {
    "tags": []
   },
   "outputs": [
    {
     "name": "stdout",
     "output_type": "stream",
     "text": [
      "\n",
      "\n",
      "\u001b[1m> Entering new RetrievalQA chain...\u001b[0m\n",
      "\n",
      "\n",
      "\u001b[1m> Entering new StuffDocumentsChain chain...\u001b[0m\n",
      "\n",
      "\n",
      "\u001b[1m> Entering new LLMChain chain...\u001b[0m\n",
      "Prompt after formatting:\n",
      "\u001b[32;1m\u001b[1;3mUse the following pieces of context to answer the question at the end. \n",
      "\n",
      "Context:  Document Title: U.S. Inflation Rate 1960-2023 | MacroTrends\n",
      "Document Excerpt: \n",
      "Markets Market Indexes Precious Metals Energy Commodities Exchange Rates Interest Rates Futures Stock Research Top Stocks Stock Screener Top 100 Dividend Stocks Economy U.S. Economic Charts GDP by Country GDP Per Capita by Country Manufacturing by Country Debt to GDP Ratio by Country Global Metrics Topic Overview Largest Countries by Population U.S. States by Population U.S. and World Cities by Population U.S. Inflation Rate 1960-2023 Population Economy Trade Health Education Development Labor Force Environment Crime Immigration Other GDP GDP Growth Rate GDP Per Capita GNI GNI Per Capita Debt to GDP GNP Inflation Rate Economic Growth Manufacturing Inflation as measured by the consumer price index reflects the annual percentage change in the cost to the average consumer of acquiring a basket of goods and services that may be fixed or changed at specified intervals, such as yearly. The Laspeyres formula is generally used. U.S. inflation rate for 2022 was 8.00%, a 3.3% increase from 2021. U.S. inflation rate for 2021 was 4.70%, a 3.46% increase from 2020. U.S. inflation rate for 2020 was 1.23%, a 0.58% decline from 2019. U.S. inflation rate for 2019 was 1.81%, a 0.63% decline from 2018. Download Historical Data Save as Image Data Source: World Bank MLA Citation: Similar Country Ranking Country Name Inflation Rate (%) Lithuania 19.71% Estonia 19.40% Latvia 17.31% Czech Republic 15.10% Hungary 14.61% Poland 14.43% Slovak Republic 12.77% Palau 12.35% Chile 11.64% Croatia 10.78% Netherlands 10.00% Greece 9.65% Belgium 9.60% Uruguay 9.10% Slovenia 8.83% Austria 8.55% Cyprus 8.40% Spain 8.39% Sweden 8.37% Iceland 8.31% Italy 8.20% United States 8.00% United Kingdom 7.92% Portugal 7.83% Ireland 7.81% Denmark 7.70\n",
      "\n",
      "\n",
      "Document Title: U.S. GNI 1962-2023 | MacroTrends\n",
      "Document Excerpt: \n",
      "value added by all resident producers plus any product taxes (less subsidies) not included in the valuation of output plus net receipts of primary income (compensation of employees and property income) from abroad. Data are in current U.S. dollars. GNI, calculated in national currency, is usually converted to U.S. dollars at official exchange rates for comparisons across economies, although an alternative rate is used when the official exchange rate is judged to diverge by an exceptionally large margin from the rate actually applied in international transactions. To smooth fluctuations in prices and exchange rates, a special Atlas method of conversion is used by the World Bank. This applies a conversion factor that averages the exchange rate for a given year and the two preceding years, adjusted for differences in rates of inflation between the country, and through 2000, the G-5 countries (France, Germany, Japan, the United Kingdom, and the United States). From 2001, these countries include the Euro area, Japan, the United Kingdom, and the United States. U.S. gni for 2022 was $25,454.40B, a 8.13% increase from 2021. U.S. gni for 2021 was $23,539.92B, a 9.83% increase from 2020. U.S. gni for 2020 was $21,432.32B, a 1.29% decline from 2019. U.S. gni for 2019 was $21,713.40B, a 4.69% increase from 2018. Download Historical Data Save as Image Data Source: World Bank MLA Citation: Similar Country Ranking Country Name Billions of US $ United States $25,454.40B Japan $5,310.03B Germany $4,488.99B United Kingdom $3,273.92B France $3,115.32B Italy $2,218.62B Canada $2,061.75B South Korea $1,858.05B Australia $1,569.90B Spain $1,508.54B Netherlands $1,016.73B Saudi Arabia $1,004.43B Switzerland $784.47B Poland $689.13B Sweden\n",
      "\n",
      "\n",
      "Document Title: U.S. GNP 1962-2023 | MacroTrends\n",
      "Document Excerpt: \n",
      "value added by all resident producers plus any product taxes (less subsidies) not included in the valuation of output plus net receipts of primary income (compensation of employees and property income) from abroad. Data are in current U.S. dollars. GNI, calculated in national currency, is usually converted to U.S. dollars at official exchange rates for comparisons across economies, although an alternative rate is used when the official exchange rate is judged to diverge by an exceptionally large margin from the rate actually applied in international transactions. To smooth fluctuations in prices and exchange rates, a special Atlas method of conversion is used by the World Bank. This applies a conversion factor that averages the exchange rate for a given year and the two preceding years, adjusted for differences in rates of inflation between the country, and through 2000, the G-5 countries (France, Germany, Japan, the United Kingdom, and the United States). From 2001, these countries include the Euro area, Japan, the United Kingdom, and the United States. U.S. gnp for 2022 was $25,454.40B, a 8.13% increase from 2021. U.S. gnp for 2021 was $23,539.92B, a 9.83% increase from 2020. U.S. gnp for 2020 was $21,432.32B, a 1.29% decline from 2019. U.S. gnp for 2019 was $21,713.40B, a 4.69% increase from 2018. Download Historical Data Save as Image Data Source: World Bank MLA Citation: Similar Country Ranking Country Name Billions of US $ United States $25,454.40B Japan $5,310.03B Germany $4,488.99B United Kingdom $3,273.92B France $3,115.32B Italy $2,218.62B Canada $2,061.75B South Korea $1,858.05B Australia $1,569.90B Spain $1,508.54B Netherlands $1,016.73B Saudi Arabia $1,004.43B Switzerland $784.47B Poland $689.13B Sweden\n",
      "\n",
      "\n",
      "Question: Inflation Rate in the US in 2022\n",
      "Answer:\u001b[0m\n",
      "\n",
      "\u001b[1m> Finished chain.\u001b[0m\n",
      "\n",
      "\u001b[1m> Finished chain.\u001b[0m\n",
      "\n",
      "\u001b[1m> Finished chain.\u001b[0m\n"
     ]
    }
   ],
   "source": [
    "query = \"Inflation Rate in the US in 2022\"\n",
    "result = qa(query)"
   ]
  },
  {
   "cell_type": "code",
   "execution_count": 87,
   "id": "15b4da41-7aa2-400e-a931-c8449bd13f83",
   "metadata": {
    "tags": []
   },
   "outputs": [
    {
     "name": "stdout",
     "output_type": "stream",
     "text": [
      " According to the document, the inflation rate in the US in 2022 was 8.00%, which is an increase of 3.3% from 2021.\n"
     ]
    }
   ],
   "source": [
    "print(result['result'])"
   ]
  },
  {
   "cell_type": "code",
   "execution_count": 90,
   "id": "006cf5f2-ec07-4225-9b7a-dc7c2a3f44b3",
   "metadata": {
    "tags": []
   },
   "outputs": [
    {
     "name": "stdout",
     "output_type": "stream",
     "text": [
      "\n",
      "\n",
      "\u001b[1m> Entering new RetrievalQA chain...\u001b[0m\n",
      "\n",
      "\n",
      "\u001b[1m> Entering new StuffDocumentsChain chain...\u001b[0m\n",
      "\n",
      "\n",
      "\u001b[1m> Entering new LLMChain chain...\u001b[0m\n",
      "Prompt after formatting:\n",
      "\u001b[32;1m\u001b[1;3mUse the following pieces of context to answer the question at the end. \n",
      "\n",
      "Context:  Document Title: Starbucks-FY22-Annual-Report.pdf\n",
      "Document Excerpt: \n",
      "Properties The material properties used by Starbucks in connection with its roasting, manufacturing, warehousing, distribution and corporate administrative operations, serving all segments, are as follows: Location Approximate Size in Square Feet Purpose York, PA 1,957,000 Roasting, warehousing and distribution Seattle, WA 1,145,000 Corporate administrative Minden, NV (Carson Valley) 1,080,000 Roasting, warehousing and distribution Lebanon, TN 680,000 Warehousing and distribution Kent, WA 510,000 Roasting and distribution Auburn, WA 491,000 Warehousing and distribution Shanghai, China 225,000 Corporate administrative We own most of our roasting facilities and lease the majority of our warehousing and distribution locations. As of October 2, 2022, Starbucks had 18,253 company-operated stores, almost all of which are leased. We also lease space in various locations worldwide for regional, district and other administrative offices, training facilities and storage. In addition to the locations listed above, we hold inventory at various locations managed by third-party warehouses. We believe our existing facilities, both owned and leased, are in good condition and suitable for the conduct of our business. Item 3. Legal Proceedings See Note 16, Commitments and Contingencies, to the consolidated financial statements included in Item 8 of Part II of this 10- K for information regarding certain legal proceedings in which we are involved. Item 4. Mine Safety Disclosures Not applicable. 22 Starbucks Corporation 2022 Form 10-K PART II Item 5.\n",
      "\n",
      "\n",
      "Document Title: Starbucks-FY22-Annual-Report.pdf\n",
      "Document Excerpt: \n",
      "The Starbucks Experience is built upon superior customer service, convenience and a seamless digital experience as well as safe, clean and well-maintained stores that reflect the personalities of the communities in which they operate, thereby building a high degree of customer loyalty. Our strategy for expanding our global retail business is to increase our category share in a disciplined manner, by selectively opening additional stores in new and existing markets, as well as increasing sales in existing stores, to support our long-term strategic objective to maintain Starbucks standing as one of the most recognized and respected brands in the world. Store growth in specific existing markets will vary due to many factors, including expected financial returns, the maturity of the market, economic conditions, consumer behavior and local business environment. in existing stores, to support our long-term strategic objective to maintain Starbucks standing as one of the most recognized and respected brands in the world. Store growth in specific existing markets will vary due to many factors, including expected financial returns, the maturity of the market, economic conditions, consumer behavior and local business environment. Company-operated store data for the fiscal year-ended October 2, 2022: Stores Open as of Stores Open as of Oct 3, 2021 Opened Closed Transfers Net Oct 2, 2022 North America: U.S. 8,947 437 (116) (3) 318 9,265 Canada 908 44 (6) — 38 946 Siren Retail 6 — (1) — (1) 5 Total North America Company-operated store data for the fiscal year-ended October 2, 2022: Stores Open as of Stores Open as of Oct 3, 2021 Opened Closed Transfers Net Oct 2, 2022 North America: U.S. 8,947 437 (116) (3) 318 9,265 Canada 908 44 (6) — 38 946 Siren Retail 6 — (1) — (1) 5 Total North America 9,861 481 (123) (3) 355 10,216 International: China 5,358 724 (63) — 661 6,019 Japan 1,546 102 (18) — 84 1,630 U.K. 298 29 (6) (3) 20 318 All Other 65 2 (2) — — 65 Siren Retail 5 — — — — 5 Total International 7,272 857 (89) (3) 765\n",
      "\n",
      "\n",
      "Document Title: Starbucks-FY22-Annual-Report.pdf\n",
      "Document Excerpt: \n",
      "As part of these arrangements, we sell coffee, tea, food and related products to licensees for resale to customers and receive royalties and license fees from the licensees. We also sell certain equipment, such as coffee brewers and espresso machines, to our licensees for use in their operations. Licensee employees working in licensed retail locations are required to follow our detailed store operating procedures and attend training classes similar to those given to employees in company-operated stores. In a limited number of international markets, we also use traditional franchising and include these stores in the results of operations from our other licensed stores. Starbucks Corporation 2022 Form 10-K 7 Licensed store data for the fiscal year-ended October 2, 2022: Stores Open as of Stores Open as of Oct 3, 2021 Opened Closed Transfers Net Oct Starbucks Corporation 2022 Form 10-K 7 Licensed store data for the fiscal year-ended October 2, 2022: Stores Open as of Stores Open as of Oct 3, 2021 Opened Closed Transfers Net Oct 2, 2022 North America: U.S. 6,497 217 (109) 3 111 6,608 Canada 468 27 (24) — 3 471 Total North America 6,965 244 (133) 3 114 7,079 International: Korea 1,611 168 (29) — 139 1,750 Latin America 1,437 115 (3) — 112 1,549 U.K. 791 74 (30) 3 47 838 Turkey 559 50 (5\n",
      "\n",
      "\n",
      "Question: How many Starbucks stores opened in 2022\n",
      "Answer:\u001b[0m\n",
      "\n",
      "\u001b[1m> Finished chain.\u001b[0m\n",
      "\n",
      "\u001b[1m> Finished chain.\u001b[0m\n",
      "\n",
      "\u001b[1m> Finished chain.\u001b[0m\n",
      " According to the information provided in the document, Starbucks opened 437 new stores in North America in 2022, and 724 new stores in international markets, for a total of 1,151 new stores opened in 2022.\n"
     ]
    }
   ],
   "source": [
    "query = \"\"\n",
    "result = qa(query)\n",
    "print(result['result'])"
   ]
  },
  {
   "cell_type": "code",
   "execution_count": null,
   "id": "fe21a6d0-0a31-4670-82e6-5dd21d88e5db",
   "metadata": {},
   "outputs": [],
   "source": []
  }
 ],
 "metadata": {
  "availableInstances": [
   {
    "_defaultOrder": 0,
    "_isFastLaunch": true,
    "category": "General purpose",
    "gpuNum": 0,
    "hideHardwareSpecs": false,
    "memoryGiB": 4,
    "name": "ml.t3.medium",
    "vcpuNum": 2
   },
   {
    "_defaultOrder": 1,
    "_isFastLaunch": false,
    "category": "General purpose",
    "gpuNum": 0,
    "hideHardwareSpecs": false,
    "memoryGiB": 8,
    "name": "ml.t3.large",
    "vcpuNum": 2
   },
   {
    "_defaultOrder": 2,
    "_isFastLaunch": false,
    "category": "General purpose",
    "gpuNum": 0,
    "hideHardwareSpecs": false,
    "memoryGiB": 16,
    "name": "ml.t3.xlarge",
    "vcpuNum": 4
   },
   {
    "_defaultOrder": 3,
    "_isFastLaunch": false,
    "category": "General purpose",
    "gpuNum": 0,
    "hideHardwareSpecs": false,
    "memoryGiB": 32,
    "name": "ml.t3.2xlarge",
    "vcpuNum": 8
   },
   {
    "_defaultOrder": 4,
    "_isFastLaunch": true,
    "category": "General purpose",
    "gpuNum": 0,
    "hideHardwareSpecs": false,
    "memoryGiB": 8,
    "name": "ml.m5.large",
    "vcpuNum": 2
   },
   {
    "_defaultOrder": 5,
    "_isFastLaunch": false,
    "category": "General purpose",
    "gpuNum": 0,
    "hideHardwareSpecs": false,
    "memoryGiB": 16,
    "name": "ml.m5.xlarge",
    "vcpuNum": 4
   },
   {
    "_defaultOrder": 6,
    "_isFastLaunch": false,
    "category": "General purpose",
    "gpuNum": 0,
    "hideHardwareSpecs": false,
    "memoryGiB": 32,
    "name": "ml.m5.2xlarge",
    "vcpuNum": 8
   },
   {
    "_defaultOrder": 7,
    "_isFastLaunch": false,
    "category": "General purpose",
    "gpuNum": 0,
    "hideHardwareSpecs": false,
    "memoryGiB": 64,
    "name": "ml.m5.4xlarge",
    "vcpuNum": 16
   },
   {
    "_defaultOrder": 8,
    "_isFastLaunch": false,
    "category": "General purpose",
    "gpuNum": 0,
    "hideHardwareSpecs": false,
    "memoryGiB": 128,
    "name": "ml.m5.8xlarge",
    "vcpuNum": 32
   },
   {
    "_defaultOrder": 9,
    "_isFastLaunch": false,
    "category": "General purpose",
    "gpuNum": 0,
    "hideHardwareSpecs": false,
    "memoryGiB": 192,
    "name": "ml.m5.12xlarge",
    "vcpuNum": 48
   },
   {
    "_defaultOrder": 10,
    "_isFastLaunch": false,
    "category": "General purpose",
    "gpuNum": 0,
    "hideHardwareSpecs": false,
    "memoryGiB": 256,
    "name": "ml.m5.16xlarge",
    "vcpuNum": 64
   },
   {
    "_defaultOrder": 11,
    "_isFastLaunch": false,
    "category": "General purpose",
    "gpuNum": 0,
    "hideHardwareSpecs": false,
    "memoryGiB": 384,
    "name": "ml.m5.24xlarge",
    "vcpuNum": 96
   },
   {
    "_defaultOrder": 12,
    "_isFastLaunch": false,
    "category": "General purpose",
    "gpuNum": 0,
    "hideHardwareSpecs": false,
    "memoryGiB": 8,
    "name": "ml.m5d.large",
    "vcpuNum": 2
   },
   {
    "_defaultOrder": 13,
    "_isFastLaunch": false,
    "category": "General purpose",
    "gpuNum": 0,
    "hideHardwareSpecs": false,
    "memoryGiB": 16,
    "name": "ml.m5d.xlarge",
    "vcpuNum": 4
   },
   {
    "_defaultOrder": 14,
    "_isFastLaunch": false,
    "category": "General purpose",
    "gpuNum": 0,
    "hideHardwareSpecs": false,
    "memoryGiB": 32,
    "name": "ml.m5d.2xlarge",
    "vcpuNum": 8
   },
   {
    "_defaultOrder": 15,
    "_isFastLaunch": false,
    "category": "General purpose",
    "gpuNum": 0,
    "hideHardwareSpecs": false,
    "memoryGiB": 64,
    "name": "ml.m5d.4xlarge",
    "vcpuNum": 16
   },
   {
    "_defaultOrder": 16,
    "_isFastLaunch": false,
    "category": "General purpose",
    "gpuNum": 0,
    "hideHardwareSpecs": false,
    "memoryGiB": 128,
    "name": "ml.m5d.8xlarge",
    "vcpuNum": 32
   },
   {
    "_defaultOrder": 17,
    "_isFastLaunch": false,
    "category": "General purpose",
    "gpuNum": 0,
    "hideHardwareSpecs": false,
    "memoryGiB": 192,
    "name": "ml.m5d.12xlarge",
    "vcpuNum": 48
   },
   {
    "_defaultOrder": 18,
    "_isFastLaunch": false,
    "category": "General purpose",
    "gpuNum": 0,
    "hideHardwareSpecs": false,
    "memoryGiB": 256,
    "name": "ml.m5d.16xlarge",
    "vcpuNum": 64
   },
   {
    "_defaultOrder": 19,
    "_isFastLaunch": false,
    "category": "General purpose",
    "gpuNum": 0,
    "hideHardwareSpecs": false,
    "memoryGiB": 384,
    "name": "ml.m5d.24xlarge",
    "vcpuNum": 96
   },
   {
    "_defaultOrder": 20,
    "_isFastLaunch": false,
    "category": "General purpose",
    "gpuNum": 0,
    "hideHardwareSpecs": true,
    "memoryGiB": 0,
    "name": "ml.geospatial.interactive",
    "supportedImageNames": [
     "sagemaker-geospatial-v1-0"
    ],
    "vcpuNum": 0
   },
   {
    "_defaultOrder": 21,
    "_isFastLaunch": true,
    "category": "Compute optimized",
    "gpuNum": 0,
    "hideHardwareSpecs": false,
    "memoryGiB": 4,
    "name": "ml.c5.large",
    "vcpuNum": 2
   },
   {
    "_defaultOrder": 22,
    "_isFastLaunch": false,
    "category": "Compute optimized",
    "gpuNum": 0,
    "hideHardwareSpecs": false,
    "memoryGiB": 8,
    "name": "ml.c5.xlarge",
    "vcpuNum": 4
   },
   {
    "_defaultOrder": 23,
    "_isFastLaunch": false,
    "category": "Compute optimized",
    "gpuNum": 0,
    "hideHardwareSpecs": false,
    "memoryGiB": 16,
    "name": "ml.c5.2xlarge",
    "vcpuNum": 8
   },
   {
    "_defaultOrder": 24,
    "_isFastLaunch": false,
    "category": "Compute optimized",
    "gpuNum": 0,
    "hideHardwareSpecs": false,
    "memoryGiB": 32,
    "name": "ml.c5.4xlarge",
    "vcpuNum": 16
   },
   {
    "_defaultOrder": 25,
    "_isFastLaunch": false,
    "category": "Compute optimized",
    "gpuNum": 0,
    "hideHardwareSpecs": false,
    "memoryGiB": 72,
    "name": "ml.c5.9xlarge",
    "vcpuNum": 36
   },
   {
    "_defaultOrder": 26,
    "_isFastLaunch": false,
    "category": "Compute optimized",
    "gpuNum": 0,
    "hideHardwareSpecs": false,
    "memoryGiB": 96,
    "name": "ml.c5.12xlarge",
    "vcpuNum": 48
   },
   {
    "_defaultOrder": 27,
    "_isFastLaunch": false,
    "category": "Compute optimized",
    "gpuNum": 0,
    "hideHardwareSpecs": false,
    "memoryGiB": 144,
    "name": "ml.c5.18xlarge",
    "vcpuNum": 72
   },
   {
    "_defaultOrder": 28,
    "_isFastLaunch": false,
    "category": "Compute optimized",
    "gpuNum": 0,
    "hideHardwareSpecs": false,
    "memoryGiB": 192,
    "name": "ml.c5.24xlarge",
    "vcpuNum": 96
   },
   {
    "_defaultOrder": 29,
    "_isFastLaunch": true,
    "category": "Accelerated computing",
    "gpuNum": 1,
    "hideHardwareSpecs": false,
    "memoryGiB": 16,
    "name": "ml.g4dn.xlarge",
    "vcpuNum": 4
   },
   {
    "_defaultOrder": 30,
    "_isFastLaunch": false,
    "category": "Accelerated computing",
    "gpuNum": 1,
    "hideHardwareSpecs": false,
    "memoryGiB": 32,
    "name": "ml.g4dn.2xlarge",
    "vcpuNum": 8
   },
   {
    "_defaultOrder": 31,
    "_isFastLaunch": false,
    "category": "Accelerated computing",
    "gpuNum": 1,
    "hideHardwareSpecs": false,
    "memoryGiB": 64,
    "name": "ml.g4dn.4xlarge",
    "vcpuNum": 16
   },
   {
    "_defaultOrder": 32,
    "_isFastLaunch": false,
    "category": "Accelerated computing",
    "gpuNum": 1,
    "hideHardwareSpecs": false,
    "memoryGiB": 128,
    "name": "ml.g4dn.8xlarge",
    "vcpuNum": 32
   },
   {
    "_defaultOrder": 33,
    "_isFastLaunch": false,
    "category": "Accelerated computing",
    "gpuNum": 4,
    "hideHardwareSpecs": false,
    "memoryGiB": 192,
    "name": "ml.g4dn.12xlarge",
    "vcpuNum": 48
   },
   {
    "_defaultOrder": 34,
    "_isFastLaunch": false,
    "category": "Accelerated computing",
    "gpuNum": 1,
    "hideHardwareSpecs": false,
    "memoryGiB": 256,
    "name": "ml.g4dn.16xlarge",
    "vcpuNum": 64
   },
   {
    "_defaultOrder": 35,
    "_isFastLaunch": false,
    "category": "Accelerated computing",
    "gpuNum": 1,
    "hideHardwareSpecs": false,
    "memoryGiB": 61,
    "name": "ml.p3.2xlarge",
    "vcpuNum": 8
   },
   {
    "_defaultOrder": 36,
    "_isFastLaunch": false,
    "category": "Accelerated computing",
    "gpuNum": 4,
    "hideHardwareSpecs": false,
    "memoryGiB": 244,
    "name": "ml.p3.8xlarge",
    "vcpuNum": 32
   },
   {
    "_defaultOrder": 37,
    "_isFastLaunch": false,
    "category": "Accelerated computing",
    "gpuNum": 8,
    "hideHardwareSpecs": false,
    "memoryGiB": 488,
    "name": "ml.p3.16xlarge",
    "vcpuNum": 64
   },
   {
    "_defaultOrder": 38,
    "_isFastLaunch": false,
    "category": "Accelerated computing",
    "gpuNum": 8,
    "hideHardwareSpecs": false,
    "memoryGiB": 768,
    "name": "ml.p3dn.24xlarge",
    "vcpuNum": 96
   },
   {
    "_defaultOrder": 39,
    "_isFastLaunch": false,
    "category": "Memory Optimized",
    "gpuNum": 0,
    "hideHardwareSpecs": false,
    "memoryGiB": 16,
    "name": "ml.r5.large",
    "vcpuNum": 2
   },
   {
    "_defaultOrder": 40,
    "_isFastLaunch": false,
    "category": "Memory Optimized",
    "gpuNum": 0,
    "hideHardwareSpecs": false,
    "memoryGiB": 32,
    "name": "ml.r5.xlarge",
    "vcpuNum": 4
   },
   {
    "_defaultOrder": 41,
    "_isFastLaunch": false,
    "category": "Memory Optimized",
    "gpuNum": 0,
    "hideHardwareSpecs": false,
    "memoryGiB": 64,
    "name": "ml.r5.2xlarge",
    "vcpuNum": 8
   },
   {
    "_defaultOrder": 42,
    "_isFastLaunch": false,
    "category": "Memory Optimized",
    "gpuNum": 0,
    "hideHardwareSpecs": false,
    "memoryGiB": 128,
    "name": "ml.r5.4xlarge",
    "vcpuNum": 16
   },
   {
    "_defaultOrder": 43,
    "_isFastLaunch": false,
    "category": "Memory Optimized",
    "gpuNum": 0,
    "hideHardwareSpecs": false,
    "memoryGiB": 256,
    "name": "ml.r5.8xlarge",
    "vcpuNum": 32
   },
   {
    "_defaultOrder": 44,
    "_isFastLaunch": false,
    "category": "Memory Optimized",
    "gpuNum": 0,
    "hideHardwareSpecs": false,
    "memoryGiB": 384,
    "name": "ml.r5.12xlarge",
    "vcpuNum": 48
   },
   {
    "_defaultOrder": 45,
    "_isFastLaunch": false,
    "category": "Memory Optimized",
    "gpuNum": 0,
    "hideHardwareSpecs": false,
    "memoryGiB": 512,
    "name": "ml.r5.16xlarge",
    "vcpuNum": 64
   },
   {
    "_defaultOrder": 46,
    "_isFastLaunch": false,
    "category": "Memory Optimized",
    "gpuNum": 0,
    "hideHardwareSpecs": false,
    "memoryGiB": 768,
    "name": "ml.r5.24xlarge",
    "vcpuNum": 96
   },
   {
    "_defaultOrder": 47,
    "_isFastLaunch": false,
    "category": "Accelerated computing",
    "gpuNum": 1,
    "hideHardwareSpecs": false,
    "memoryGiB": 16,
    "name": "ml.g5.xlarge",
    "vcpuNum": 4
   },
   {
    "_defaultOrder": 48,
    "_isFastLaunch": false,
    "category": "Accelerated computing",
    "gpuNum": 1,
    "hideHardwareSpecs": false,
    "memoryGiB": 32,
    "name": "ml.g5.2xlarge",
    "vcpuNum": 8
   },
   {
    "_defaultOrder": 49,
    "_isFastLaunch": false,
    "category": "Accelerated computing",
    "gpuNum": 1,
    "hideHardwareSpecs": false,
    "memoryGiB": 64,
    "name": "ml.g5.4xlarge",
    "vcpuNum": 16
   },
   {
    "_defaultOrder": 50,
    "_isFastLaunch": false,
    "category": "Accelerated computing",
    "gpuNum": 1,
    "hideHardwareSpecs": false,
    "memoryGiB": 128,
    "name": "ml.g5.8xlarge",
    "vcpuNum": 32
   },
   {
    "_defaultOrder": 51,
    "_isFastLaunch": false,
    "category": "Accelerated computing",
    "gpuNum": 1,
    "hideHardwareSpecs": false,
    "memoryGiB": 256,
    "name": "ml.g5.16xlarge",
    "vcpuNum": 64
   },
   {
    "_defaultOrder": 52,
    "_isFastLaunch": false,
    "category": "Accelerated computing",
    "gpuNum": 4,
    "hideHardwareSpecs": false,
    "memoryGiB": 192,
    "name": "ml.g5.12xlarge",
    "vcpuNum": 48
   },
   {
    "_defaultOrder": 53,
    "_isFastLaunch": false,
    "category": "Accelerated computing",
    "gpuNum": 4,
    "hideHardwareSpecs": false,
    "memoryGiB": 384,
    "name": "ml.g5.24xlarge",
    "vcpuNum": 96
   },
   {
    "_defaultOrder": 54,
    "_isFastLaunch": false,
    "category": "Accelerated computing",
    "gpuNum": 8,
    "hideHardwareSpecs": false,
    "memoryGiB": 768,
    "name": "ml.g5.48xlarge",
    "vcpuNum": 192
   },
   {
    "_defaultOrder": 55,
    "_isFastLaunch": false,
    "category": "Accelerated computing",
    "gpuNum": 8,
    "hideHardwareSpecs": false,
    "memoryGiB": 1152,
    "name": "ml.p4d.24xlarge",
    "vcpuNum": 96
   },
   {
    "_defaultOrder": 56,
    "_isFastLaunch": false,
    "category": "Accelerated computing",
    "gpuNum": 8,
    "hideHardwareSpecs": false,
    "memoryGiB": 1152,
    "name": "ml.p4de.24xlarge",
    "vcpuNum": 96
   },
   {
    "_defaultOrder": 57,
    "_isFastLaunch": false,
    "category": "Accelerated computing",
    "gpuNum": 0,
    "hideHardwareSpecs": false,
    "memoryGiB": 32,
    "name": "ml.trn1.2xlarge",
    "vcpuNum": 8
   },
   {
    "_defaultOrder": 58,
    "_isFastLaunch": false,
    "category": "Accelerated computing",
    "gpuNum": 0,
    "hideHardwareSpecs": false,
    "memoryGiB": 512,
    "name": "ml.trn1.32xlarge",
    "vcpuNum": 128
   },
   {
    "_defaultOrder": 59,
    "_isFastLaunch": false,
    "category": "Accelerated computing",
    "gpuNum": 0,
    "hideHardwareSpecs": false,
    "memoryGiB": 512,
    "name": "ml.trn1n.32xlarge",
    "vcpuNum": 128
   }
  ],
  "instance_type": "ml.t3.medium",
  "kernelspec": {
   "display_name": "Python 3 (Data Science 3.0)",
   "language": "python",
   "name": "python3__SAGEMAKER_INTERNAL__arn:aws:sagemaker:us-west-2:236514542706:image/sagemaker-data-science-310-v1"
  },
  "language_info": {
   "codemirror_mode": {
    "name": "ipython",
    "version": 3
   },
   "file_extension": ".py",
   "mimetype": "text/x-python",
   "name": "python",
   "nbconvert_exporter": "python",
   "pygments_lexer": "ipython3",
   "version": "3.10.6"
  }
 },
 "nbformat": 4,
 "nbformat_minor": 5
}
